{
 "cells": [
  {
   "cell_type": "markdown",
   "id": "03a55bca-7a1b-434d-ab20-d0d8b89a4ecd",
   "metadata": {},
   "source": [
    "# Q1. Sum of even number"
   ]
  },
  {
   "cell_type": "code",
   "execution_count": 1,
   "id": "82a4337e-fffc-4766-bbbb-4c0ae085a4b3",
   "metadata": {},
   "outputs": [],
   "source": [
    "def sum_even_number(numbers):\n",
    "    sum_even = sum(i for i in numbers if i%2==0)\n",
    "    return sum_even"
   ]
  },
  {
   "cell_type": "code",
   "execution_count": 2,
   "id": "0b307d14-63d9-41cd-b00e-0c26d24d6e3a",
   "metadata": {},
   "outputs": [
    {
     "name": "stdout",
     "output_type": "stream",
     "text": [
      "30\n"
     ]
    }
   ],
   "source": [
    "numbers = [1,2,3,4,5,6,7,8,9,10]\n",
    "result = sum_even_number(numbers)\n",
    "print(result)"
   ]
  },
  {
   "cell_type": "markdown",
   "id": "29fe2fb2-36c3-4f19-be8e-ce7cdc9487cb",
   "metadata": {},
   "source": [
    "# Q2. Reverse a string"
   ]
  },
  {
   "cell_type": "code",
   "execution_count": 3,
   "id": "30829fae-c024-4e5d-a692-abd717dfd6be",
   "metadata": {},
   "outputs": [],
   "source": [
    "def reverse_string(word):\n",
    "    return word[::-1]"
   ]
  },
  {
   "cell_type": "code",
   "execution_count": 4,
   "id": "8fac184d-27c4-4eca-a683-7db04137f83e",
   "metadata": {},
   "outputs": [
    {
     "name": "stdout",
     "output_type": "stream",
     "text": [
      "GNINROM DOOG\n"
     ]
    }
   ],
   "source": [
    "sentence = \"GOOD MORNING\"\n",
    "result = reverse_string(sentence)\n",
    "print(result)"
   ]
  },
  {
   "cell_type": "markdown",
   "id": "036ca7e8-7bec-4f6f-bd72-485640b1c979",
   "metadata": {},
   "source": [
    "# Q3. Square of numbers in a list"
   ]
  },
  {
   "cell_type": "code",
   "execution_count": 5,
   "id": "309e4715-a28f-40b5-813a-bf71ef2dc94d",
   "metadata": {},
   "outputs": [],
   "source": [
    "def square_of_number_list(numbers):\n",
    "    squared_list = [i**2 for i in numbers]\n",
    "    return squared_list"
   ]
  },
  {
   "cell_type": "code",
   "execution_count": 6,
   "id": "e59dbc0a-236a-418d-bd9e-126cecc74003",
   "metadata": {},
   "outputs": [
    {
     "name": "stdout",
     "output_type": "stream",
     "text": [
      "[25, 225, 625, 1225, 2025, 3025, 4225, 5625, 7225, 9025]\n"
     ]
    }
   ],
   "source": [
    "numbers_list = [5,15,25,35,45,55,65,75,85,95]\n",
    "result = square_of_number_list(numbers_list)\n",
    "print(result)"
   ]
  },
  {
   "cell_type": "markdown",
   "id": "ec91ba1c-b385-4020-a553-b38de210932f",
   "metadata": {},
   "source": [
    "# Q4. Check for a Prime number between 1 and 200"
   ]
  },
  {
   "cell_type": "code",
   "execution_count": 7,
   "id": "17e68bcd-9fd2-49e8-a557-8f2cb84c17cf",
   "metadata": {},
   "outputs": [],
   "source": [
    "def whether_prime(p):\n",
    "    if p < 2:\n",
    "        return False\n",
    "    for i in range(2, int(p ** 0.5) + 1):\n",
    "        if p % i == 0:\n",
    "            return False\n",
    "    return True"
   ]
  },
  {
   "cell_type": "code",
   "execution_count": 8,
   "id": "e107c89f-d91e-4037-a560-252efa8b3343",
   "metadata": {},
   "outputs": [
    {
     "name": "stdin",
     "output_type": "stream",
     "text": [
      "Insert a number to check whether prime or not between 1 and 200: 17\n"
     ]
    },
    {
     "name": "stdout",
     "output_type": "stream",
     "text": [
      "17 is a prime number.\n"
     ]
    }
   ],
   "source": [
    "# To check prime numbers from 1 to 200\n",
    "num = int(input(\"Insert a number to check whether prime or not between 1 and 200:\"))\n",
    "if 1<=num<=200:\n",
    "    if whether_prime(num):\n",
    "        print(f\"{num} is a prime number.\")\n",
    "    else:\n",
    "        print(f\"{num} is not prime number.\")\n",
    "else:\n",
    "    print(f\"{num} is not in range.\")"
   ]
  },
  {
   "cell_type": "markdown",
   "id": "fcdce1b3-e70b-417b-b244-207a79edda75",
   "metadata": {},
   "source": [
    "# Q5. Iterator Class for Fibonaaci sequence"
   ]
  },
  {
   "cell_type": "code",
   "execution_count": 9,
   "id": "7e034c43-954d-4624-be50-d80654a37e61",
   "metadata": {},
   "outputs": [],
   "source": [
    "class Fibo:\n",
    "    def __init__(self,number_of_terms):\n",
    "        self.number_of_terms = number_of_terms\n",
    "        self.current_term = 0\n",
    "        self.a, self.b = 0,1\n",
    "\n",
    "    def __iter__(self):\n",
    "        return self\n",
    "\n",
    "    def __next__(self):\n",
    "        if self.current_term >= self.number_of_terms:\n",
    "            raise StopIteration\n",
    "        fib_number = self.a\n",
    "        self.a, self.b = self.b, self.a + self.b\n",
    "        self.current_term +=1\n",
    "        return fib_number"
   ]
  },
  {
   "cell_type": "code",
   "execution_count": 10,
   "id": "58951eb1-1f4f-40f7-9529-4370fc0c53b7",
   "metadata": {},
   "outputs": [
    {
     "name": "stdout",
     "output_type": "stream",
     "text": [
      "0\n",
      "1\n",
      "1\n",
      "2\n",
      "3\n",
      "5\n",
      "8\n",
      "13\n",
      "21\n",
      "34\n",
      "55\n",
      "89\n",
      "144\n",
      "233\n",
      "377\n",
      "610\n",
      "987\n",
      "1597\n",
      "2584\n",
      "4181\n"
     ]
    }
   ],
   "source": [
    "fib = Fibo(20)\n",
    "for i in fib:\n",
    "    print(i)"
   ]
  },
  {
   "cell_type": "markdown",
   "id": "c4e69e78-d7b8-4ee4-8e59-122127883a7d",
   "metadata": {},
   "source": [
    "# Q6. Generator function that yields power of 2 upto given exponent"
   ]
  },
  {
   "cell_type": "code",
   "execution_count": 11,
   "id": "eb6fa438-3186-421c-9415-f93eaf01663f",
   "metadata": {},
   "outputs": [],
   "source": [
    "def power_of_two(max_exponent):\n",
    "    for i in range(max_exponent+1):\n",
    "        yield 2**i"
   ]
  },
  {
   "cell_type": "code",
   "execution_count": 12,
   "id": "4cd581d4-37d5-4066-bff0-fc1dcffb916f",
   "metadata": {},
   "outputs": [
    {
     "name": "stdin",
     "output_type": "stream",
     "text": [
      "Insert maximun exponent upto which power of 2 is required:  6\n"
     ]
    },
    {
     "name": "stdout",
     "output_type": "stream",
     "text": [
      "1\n",
      "2\n",
      "4\n",
      "8\n",
      "16\n",
      "32\n",
      "64\n"
     ]
    }
   ],
   "source": [
    "n =  int(input(\"Insert maximun exponent upto which power of 2 is required: \"))\n",
    "for i in power_of_two(n):\n",
    "    print(i)"
   ]
  },
  {
   "cell_type": "markdown",
   "id": "b7249a9c-2f5d-4b08-98b9-cf52ef5c95bb",
   "metadata": {},
   "source": [
    "# Q7. Generator function that yields each line as string"
   ]
  },
  {
   "cell_type": "code",
   "execution_count": 13,
   "id": "94fd0eeb-9df0-47c3-bc0a-d0c1f14046c6",
   "metadata": {},
   "outputs": [],
   "source": [
    "def read_file_line_by_line(file_path):\n",
    "    with open(file_path,'r') as f:\n",
    "        for line in f:\n",
    "            yield line.strip()"
   ]
  },
  {
   "cell_type": "code",
   "execution_count": 14,
   "id": "62a6c450-8757-4c71-b4bb-6de599c0e17c",
   "metadata": {},
   "outputs": [
    {
     "name": "stdout",
     "output_type": "stream",
     "text": [
      "To Sherlock Holmes she is always the woman. I have seldom heard him\n",
      "mention her under any other name. In his eyes she eclipses and\n",
      "predominates the whole of her sex. It was not that he felt any\n",
      "emotion akin to love for Irene Adler. All emotions, and that one\n",
      "particularly, were abhorrent to his cold, precise but admirably\n",
      "balanced mind. He was, I take it, the most perfect reasoning and\n",
      "observing machine that the world has seen, but as a lover he would\n",
      "have placed himself in a false position. He never spoke of the softer\n",
      "passions, save with a gibe and a sneer. They were admirable things\n",
      "for the observer--excellent for drawing the veil from men's motives\n",
      "and actions. But for the trained reasoner to admit such intrusions\n",
      "into his own delicate and finely adjusted temperament was to\n",
      "introduce a distracting factor which might throw a doubt upon all his\n",
      "mental results. Grit in a sensitive instrument, or a crack in one of\n",
      "his own high-power lenses, would not be more disturbing than a strong\n",
      "emotion in a nature such as his. And yet there was but one woman to\n",
      "him, and that woman was the late Irene Adler, of dubious and\n",
      "questionable memory.\n",
      "\n",
      "I had seen little of Holmes lately. My marriage had drifted us away\n",
      "from each other. My own complete happiness, and the home-centred\n",
      "interests which rise up around the man who first finds himself master\n",
      "of his own establishment, were sufficient to absorb all my attention,\n",
      "while Holmes, who loathed every form of society with his whole\n",
      "Bohemian soul, remained in our lodgings in Baker Street, buried among\n",
      "his old books, and alternating from week to week between cocaine and\n",
      "ambition, the drowsiness of the drug, and the fierce energy of his\n",
      "own keen nature. He was still, as ever, deeply attracted by the study\n",
      "of crime, and occupied his immense faculties and extraordinary powers\n",
      "of observation in following out those clues, and clearing up those\n",
      "mysteries which had been abandoned as hopeless by the official\n",
      "police. From time to time I heard some vague account of his doings:\n",
      "of his summons to Odessa in the case of the Trepoff murder, of his\n",
      "clearing up of the singular tragedy of the Atkinson brothers at\n",
      "Trincomalee, and finally of the mission which he had accomplished so\n",
      "delicately and successfully for the reigning family of Holland.\n",
      "Beyond these signs of his activity, however, which I merely shared\n",
      "with all the readers of the daily press, I knew little of my former\n",
      "friend and companion.\n",
      "\n",
      "One night--it was on the twentieth of March, 1888--I was returning\n",
      "from a journey to a patient (for I had now returned to civil\n",
      "practice), when my way led me through Baker Street. As I passed the\n",
      "well-remembered door, which must always be associated in my mind with\n",
      "my wooing, and with the dark incidents of the Study in Scarlet, I was\n",
      "seized with a keen desire to see Holmes again, and to know how he was\n",
      "employing his extraordinary powers. His rooms were brilliantly lit,\n",
      "and, even as I looked up, I saw his tall, spare figure pass twice in\n",
      "a dark silhouette against the blind. He was pacing the room swiftly,\n",
      "eagerly, with his head sunk upon his chest and his hands clasped\n",
      "behind him. To me, who knew his every mood and habit, his attitude\n",
      "and manner told their own story. He was at work again. He had risen\n",
      "out of his drug-created dreams and was hot upon the scent of some new\n",
      "problem. I rang the bell and was shown up to the chamber which had\n",
      "formerly been in part my own.\n",
      "\n",
      "His manner was not effusive. It seldom was; but he was glad, I think,\n",
      "to see me. With hardly a word spoken, but with a kindly eye, he waved\n",
      "me to an armchair, threw across his case of cigars, and indicated a\n",
      "spirit case and a gasogene in the corner. Then he stood before the\n",
      "fire and looked me over in his singular introspective fashion.\n"
     ]
    }
   ],
   "source": [
    "for line in read_file_line_by_line('example.txt'):\n",
    "    print(line)"
   ]
  },
  {
   "cell_type": "markdown",
   "id": "684c5355-a8bd-42c8-8eb4-78c3678b0581",
   "metadata": {},
   "source": [
    "# Q8. Lambda function to sort a list of tuples based on second element of each tuple."
   ]
  },
  {
   "cell_type": "code",
   "execution_count": 15,
   "id": "888989b1-f95c-4682-b541-8b80b2669d74",
   "metadata": {},
   "outputs": [
    {
     "name": "stdout",
     "output_type": "stream",
     "text": [
      "[(8, 2), (216, 6), (1331, 11), (4, 64), (5, 125)]\n"
     ]
    }
   ],
   "source": [
    "tuple_list = [(5,125),(216,6),(4,64),(8,2),(1331,11)]\n",
    "\n",
    "sorted_list = sorted(tuple_list,key = lambda x:x[1])\n",
    "print(sorted_list)"
   ]
  },
  {
   "cell_type": "markdown",
   "id": "81d6b45a-9463-49eb-b882-0d3c0925c5ea",
   "metadata": {},
   "source": [
    "# Q9. map() to convert a list of temperatures from Celsius to Fahrenheit"
   ]
  },
  {
   "cell_type": "code",
   "execution_count": 16,
   "id": "33ac1041-335e-4337-894a-b1ab83f33fe0",
   "metadata": {},
   "outputs": [
    {
     "name": "stdout",
     "output_type": "stream",
     "text": [
      "[-40.0, 32.0, 104.0, 212.0]\n"
     ]
    }
   ],
   "source": [
    "def degree_Celsius_to_degree_Fahrenheit(C):\n",
    "    return (C*(9/5))+32\n",
    "\n",
    "celsius_temps = [-40,0,40,100]\n",
    "\n",
    "fahrenheit_temp = list(map(degree_Celsius_to_degree_Fahrenheit,celsius_temps))\n",
    "\n",
    "print(fahrenheit_temp)"
   ]
  },
  {
   "cell_type": "markdown",
   "id": "973181e3-45e3-42ac-a1d9-afcf853d250f",
   "metadata": {},
   "source": [
    "# Q10. filter() to remove vowels from string"
   ]
  },
  {
   "cell_type": "code",
   "execution_count": 17,
   "id": "15484c96-db38-41bd-ab76-15a809f73249",
   "metadata": {},
   "outputs": [
    {
     "name": "stdin",
     "output_type": "stream",
     "text": [
      "Input a string:  Satyabhama has 10 CGPA.\n"
     ]
    },
    {
     "name": "stdout",
     "output_type": "stream",
     "text": [
      "Stybhm hs 10 CGP.\n"
     ]
    }
   ],
   "source": [
    "def remove_vowels(s):\n",
    "    vowels = set('aeiouAEIOU')\n",
    "    \n",
    "    filtered_string = filter(lambda vow: vow not in vowels, s)\n",
    "    \n",
    "    return ''.join(filtered_string)\n",
    "\n",
    "input_string = input(\"Input a string: \")\n",
    "result = remove_vowels(input_string)\n",
    "print(result)"
   ]
  },
  {
   "cell_type": "markdown",
   "id": "fcefb462-6c50-45fe-9f64-5517658bbc2d",
   "metadata": {},
   "source": [
    "# Q11. Accounting Routine Problem"
   ]
  },
  {
   "cell_type": "code",
   "execution_count": 19,
   "id": "92726151-0a7d-4770-aa69-5e9640aaa434",
   "metadata": {},
   "outputs": [
    {
     "name": "stdout",
     "output_type": "stream",
     "text": [
      "[(34587, 163.8), (98762, 284.0), (77226, 108.85000000000001), (88112, 84.97)]\n"
     ]
    }
   ],
   "source": [
    "orders = [\n",
    "    [34587, 'Learning Python, Mark Lutz', 4, 40.95],\n",
    "    [98762, 'Programming Python, Mark Lutz', 5, 56.80],\n",
    "    [77226, 'Head First Python, Paul Barry', 3, 32.95],\n",
    "    [88112, 'Einfuhrung in Python3, Bernd Klein', 3, 24.99]\n",
    "]\n",
    "\n",
    "calculate_total = lambda order: (\n",
    "    order[0],\n",
    "    (order[2]*order[3]) + 10 if (order[2] * order[3]) < 100 else (order[2]*order[3])\n",
    ")\n",
    "\n",
    "result = list(map(calculate_total,orders))\n",
    "\n",
    "print(result)"
   ]
  },
  {
   "cell_type": "code",
   "execution_count": null,
   "id": "b801f795-9a0a-4b8a-a03a-6fbefcaac5ac",
   "metadata": {},
   "outputs": [],
   "source": []
  }
 ],
 "metadata": {
  "kernelspec": {
   "display_name": "Python 3 (ipykernel)",
   "language": "python",
   "name": "python3"
  },
  "language_info": {
   "codemirror_mode": {
    "name": "ipython",
    "version": 3
   },
   "file_extension": ".py",
   "mimetype": "text/x-python",
   "name": "python",
   "nbconvert_exporter": "python",
   "pygments_lexer": "ipython3",
   "version": "3.12.4"
  }
 },
 "nbformat": 4,
 "nbformat_minor": 5
}
